{
 "cells": [
  {
   "cell_type": "code",
   "execution_count": 72,
   "id": "5d210e73",
   "metadata": {},
   "outputs": [],
   "source": [
    "from sklearn.model_selection import (RandomizedSearchCV, \n",
    "    KFold, cross_val_score, GridSearchCV, train_test_split, StratifiedShuffleSplit)\n",
    "from sklearn.tree import DecisionTreeClassifier\n",
    "from scipy. stats import randint\n",
    "from sklearn.ensemble import RandomForestClassifier\n",
    "\n",
    "import pandas as pd\n",
    "import numpy as np\n",
    "\n",
    "import seaborn as sns\n",
    "import matplotlib.pyplot as plt"
   ]
  },
  {
   "cell_type": "code",
   "execution_count": 19,
   "id": "b3ce4805",
   "metadata": {},
   "outputs": [
    {
     "data": {
      "text/html": [
       "<div>\n",
       "<style scoped>\n",
       "    .dataframe tbody tr th:only-of-type {\n",
       "        vertical-align: middle;\n",
       "    }\n",
       "\n",
       "    .dataframe tbody tr th {\n",
       "        vertical-align: top;\n",
       "    }\n",
       "\n",
       "    .dataframe thead th {\n",
       "        text-align: right;\n",
       "    }\n",
       "</style>\n",
       "<table border=\"1\" class=\"dataframe\">\n",
       "  <thead>\n",
       "    <tr style=\"text-align: right;\">\n",
       "      <th></th>\n",
       "      <th>preco</th>\n",
       "      <th>vendido</th>\n",
       "      <th>idade_do_modelo</th>\n",
       "      <th>km_por_ano</th>\n",
       "    </tr>\n",
       "  </thead>\n",
       "  <tbody>\n",
       "    <tr>\n",
       "      <th>0</th>\n",
       "      <td>30941.02</td>\n",
       "      <td>1</td>\n",
       "      <td>18</td>\n",
       "      <td>35085.22134</td>\n",
       "    </tr>\n",
       "    <tr>\n",
       "      <th>1</th>\n",
       "      <td>40557.96</td>\n",
       "      <td>1</td>\n",
       "      <td>20</td>\n",
       "      <td>12622.05362</td>\n",
       "    </tr>\n",
       "    <tr>\n",
       "      <th>2</th>\n",
       "      <td>89627.50</td>\n",
       "      <td>0</td>\n",
       "      <td>12</td>\n",
       "      <td>11440.79806</td>\n",
       "    </tr>\n",
       "    <tr>\n",
       "      <th>3</th>\n",
       "      <td>95276.14</td>\n",
       "      <td>0</td>\n",
       "      <td>3</td>\n",
       "      <td>43167.32682</td>\n",
       "    </tr>\n",
       "    <tr>\n",
       "      <th>4</th>\n",
       "      <td>117384.68</td>\n",
       "      <td>1</td>\n",
       "      <td>4</td>\n",
       "      <td>12770.11290</td>\n",
       "    </tr>\n",
       "  </tbody>\n",
       "</table>\n",
       "</div>"
      ],
      "text/plain": [
       "       preco  vendido  idade_do_modelo   km_por_ano\n",
       "0   30941.02        1               18  35085.22134\n",
       "1   40557.96        1               20  12622.05362\n",
       "2   89627.50        0               12  11440.79806\n",
       "3   95276.14        0                3  43167.32682\n",
       "4  117384.68        1                4  12770.11290"
      ]
     },
     "metadata": {},
     "output_type": "display_data"
    }
   ],
   "source": [
    "# Carregamento dos dados\n",
    "uri = \"https://gist.githubusercontent.com/guilhermesilveira/e99a526b2e7ccc6c3b70f53db43a87d2/raw/1605fc74aa778066bf2e6695e24d53cf65f2f447/machine-learning-carros-simulacao.csv\"\n",
    "dados = pd.read_csv(uri).drop(columns=[\"Unnamed: 0\"], axis=1)\n",
    "display(dados.head())\n",
    "\n",
    "x = dados.drop(columns=['vendido'])\n",
    "y = dados.vendido"
   ]
  },
  {
   "cell_type": "markdown",
   "id": "57a66491",
   "metadata": {},
   "source": [
    "# 01. Randomized Search e Cross Validation combinadas"
   ]
  },
  {
   "cell_type": "markdown",
   "id": "40c56961",
   "metadata": {},
   "source": [
    "Com a mesma ideia do GridSearchCV de procurar os hiperparâmetros ótimos existe o RandomizedSearchCV, sendo que a diferença é que o GridSearch procura por todo o espaço de parâmetros fornecido e o RandomizedSearch calcula apenas um número de valores aleatórios, especificado pelo parâmetro n_iter da função."
   ]
  },
  {
   "cell_type": "code",
   "execution_count": 23,
   "id": "450ada38",
   "metadata": {},
   "outputs": [
    {
     "data": {
      "text/html": [
       "<div>\n",
       "<style scoped>\n",
       "    .dataframe tbody tr th:only-of-type {\n",
       "        vertical-align: middle;\n",
       "    }\n",
       "\n",
       "    .dataframe tbody tr th {\n",
       "        vertical-align: top;\n",
       "    }\n",
       "\n",
       "    .dataframe thead th {\n",
       "        text-align: right;\n",
       "    }\n",
       "</style>\n",
       "<table border=\"1\" class=\"dataframe\">\n",
       "  <thead>\n",
       "    <tr style=\"text-align: right;\">\n",
       "      <th></th>\n",
       "      <th>mean_fit_time</th>\n",
       "      <th>std_fit_time</th>\n",
       "      <th>mean_score_time</th>\n",
       "      <th>std_score_time</th>\n",
       "      <th>param_min_samples_split</th>\n",
       "      <th>param_min_samples_leaf</th>\n",
       "      <th>param_max_depth</th>\n",
       "      <th>param_criterion</th>\n",
       "      <th>params</th>\n",
       "      <th>split0_test_score</th>\n",
       "      <th>split1_test_score</th>\n",
       "      <th>split2_test_score</th>\n",
       "      <th>split3_test_score</th>\n",
       "      <th>split4_test_score</th>\n",
       "      <th>mean_test_score</th>\n",
       "      <th>std_test_score</th>\n",
       "      <th>rank_test_score</th>\n",
       "    </tr>\n",
       "  </thead>\n",
       "  <tbody>\n",
       "    <tr>\n",
       "      <th>0</th>\n",
       "      <td>0.008378</td>\n",
       "      <td>0.001354</td>\n",
       "      <td>0.002192</td>\n",
       "      <td>0.000399</td>\n",
       "      <td>400</td>\n",
       "      <td>800</td>\n",
       "      <td>2</td>\n",
       "      <td>entropy</td>\n",
       "      <td>{'min_samples_split': 400, 'min_samples_leaf':...</td>\n",
       "      <td>0.7780</td>\n",
       "      <td>0.7500</td>\n",
       "      <td>0.7480</td>\n",
       "      <td>0.7585</td>\n",
       "      <td>0.7545</td>\n",
       "      <td>0.7578</td>\n",
       "      <td>0.010736</td>\n",
       "      <td>14</td>\n",
       "    </tr>\n",
       "    <tr>\n",
       "      <th>1</th>\n",
       "      <td>0.010782</td>\n",
       "      <td>0.000740</td>\n",
       "      <td>0.001795</td>\n",
       "      <td>0.000391</td>\n",
       "      <td>400</td>\n",
       "      <td>500</td>\n",
       "      <td>7</td>\n",
       "      <td>entropy</td>\n",
       "      <td>{'min_samples_split': 400, 'min_samples_leaf':...</td>\n",
       "      <td>0.7960</td>\n",
       "      <td>0.7675</td>\n",
       "      <td>0.7625</td>\n",
       "      <td>0.7720</td>\n",
       "      <td>0.7705</td>\n",
       "      <td>0.7737</td>\n",
       "      <td>0.011613</td>\n",
       "      <td>5</td>\n",
       "    </tr>\n",
       "    <tr>\n",
       "      <th>2</th>\n",
       "      <td>0.008103</td>\n",
       "      <td>0.000679</td>\n",
       "      <td>0.001388</td>\n",
       "      <td>0.000499</td>\n",
       "      <td>100</td>\n",
       "      <td>1000</td>\n",
       "      <td>6</td>\n",
       "      <td>entropy</td>\n",
       "      <td>{'min_samples_split': 100, 'min_samples_leaf':...</td>\n",
       "      <td>0.7855</td>\n",
       "      <td>0.7475</td>\n",
       "      <td>0.7535</td>\n",
       "      <td>0.7690</td>\n",
       "      <td>0.7465</td>\n",
       "      <td>0.7604</td>\n",
       "      <td>0.014908</td>\n",
       "      <td>11</td>\n",
       "    </tr>\n",
       "    <tr>\n",
       "      <th>3</th>\n",
       "      <td>0.007773</td>\n",
       "      <td>0.000968</td>\n",
       "      <td>0.001797</td>\n",
       "      <td>0.000728</td>\n",
       "      <td>900</td>\n",
       "      <td>1000</td>\n",
       "      <td>6</td>\n",
       "      <td>entropy</td>\n",
       "      <td>{'min_samples_split': 900, 'min_samples_leaf':...</td>\n",
       "      <td>0.7855</td>\n",
       "      <td>0.7475</td>\n",
       "      <td>0.7535</td>\n",
       "      <td>0.7690</td>\n",
       "      <td>0.7465</td>\n",
       "      <td>0.7604</td>\n",
       "      <td>0.014908</td>\n",
       "      <td>11</td>\n",
       "    </tr>\n",
       "    <tr>\n",
       "      <th>4</th>\n",
       "      <td>0.006464</td>\n",
       "      <td>0.000601</td>\n",
       "      <td>0.001589</td>\n",
       "      <td>0.000484</td>\n",
       "      <td>700</td>\n",
       "      <td>500</td>\n",
       "      <td>2</td>\n",
       "      <td>gini</td>\n",
       "      <td>{'min_samples_split': 700, 'min_samples_leaf':...</td>\n",
       "      <td>0.7780</td>\n",
       "      <td>0.7500</td>\n",
       "      <td>0.7480</td>\n",
       "      <td>0.7585</td>\n",
       "      <td>0.7545</td>\n",
       "      <td>0.7578</td>\n",
       "      <td>0.010736</td>\n",
       "      <td>14</td>\n",
       "    </tr>\n",
       "  </tbody>\n",
       "</table>\n",
       "</div>"
      ],
      "text/plain": [
       "   mean_fit_time  std_fit_time  mean_score_time  std_score_time  \\\n",
       "0       0.008378      0.001354         0.002192        0.000399   \n",
       "1       0.010782      0.000740         0.001795        0.000391   \n",
       "2       0.008103      0.000679         0.001388        0.000499   \n",
       "3       0.007773      0.000968         0.001797        0.000728   \n",
       "4       0.006464      0.000601         0.001589        0.000484   \n",
       "\n",
       "  param_min_samples_split param_min_samples_leaf param_max_depth  \\\n",
       "0                     400                    800               2   \n",
       "1                     400                    500               7   \n",
       "2                     100                   1000               6   \n",
       "3                     900                   1000               6   \n",
       "4                     700                    500               2   \n",
       "\n",
       "  param_criterion                                             params  \\\n",
       "0         entropy  {'min_samples_split': 400, 'min_samples_leaf':...   \n",
       "1         entropy  {'min_samples_split': 400, 'min_samples_leaf':...   \n",
       "2         entropy  {'min_samples_split': 100, 'min_samples_leaf':...   \n",
       "3         entropy  {'min_samples_split': 900, 'min_samples_leaf':...   \n",
       "4            gini  {'min_samples_split': 700, 'min_samples_leaf':...   \n",
       "\n",
       "   split0_test_score  split1_test_score  split2_test_score  split3_test_score  \\\n",
       "0             0.7780             0.7500             0.7480             0.7585   \n",
       "1             0.7960             0.7675             0.7625             0.7720   \n",
       "2             0.7855             0.7475             0.7535             0.7690   \n",
       "3             0.7855             0.7475             0.7535             0.7690   \n",
       "4             0.7780             0.7500             0.7480             0.7585   \n",
       "\n",
       "   split4_test_score  mean_test_score  std_test_score  rank_test_score  \n",
       "0             0.7545           0.7578        0.010736               14  \n",
       "1             0.7705           0.7737        0.011613                5  \n",
       "2             0.7465           0.7604        0.014908               11  \n",
       "3             0.7465           0.7604        0.014908               11  \n",
       "4             0.7545           0.7578        0.010736               14  "
      ]
     },
     "execution_count": 23,
     "metadata": {},
     "output_type": "execute_result"
    }
   ],
   "source": [
    "np.random.seed(333)\n",
    "\n",
    "espaco_de_parametros = {\n",
    "    \"max_depth\" : list(range(2, 11)),\n",
    "    \"min_samples_split\": np.multiply(list(range(1, 11)), dados.shape[0]/100).astype(int),\n",
    "    \"min_samples_leaf\": np.multiply(list(range(1, 11)), dados.shape[0]/100).astype(int),\n",
    "    \"criterion\": [\"gini\", \"entropy\"]\n",
    "}\n",
    "\n",
    "# Instanciando e ajustando \n",
    "busca = RandomizedSearchCV(DecisionTreeClassifier(), espaco_de_parametros, n_iter= 16,\n",
    "                           cv=KFold(n_splits=5, shuffle=True))\n",
    "busca.fit(x, y)\n",
    "    \n",
    "# Armazenando resultados num DataFrame\n",
    "resultados = pd.DataFrame(busca.cv_results_)\n",
    "resultados.head()"
   ]
  },
  {
   "cell_type": "code",
   "execution_count": 24,
   "id": "e3e8a9fc",
   "metadata": {},
   "outputs": [
    {
     "name": "stdout",
     "output_type": "stream",
     "text": [
      "A acurácia obtida está em [77.17%, 80.05%].\n",
      "Características do melhor estimador: DecisionTreeClassifier(max_depth=3, min_samples_leaf=200, min_samples_split=700).\n"
     ]
    }
   ],
   "source": [
    "np.random.seed(333)\n",
    "# Score por nested cross validation\n",
    "scores = cross_val_score(busca, x, y, cv=KFold(n_splits=5, shuffle=True))\n",
    "print(f'A acurácia obtida está em [{round((scores.mean()-2*scores.std())*100, 2)}%, {round((scores.mean()+ 2*scores.std())*100, 2)}%].')\n",
    "\n",
    "# Melhor estimador encontrado\n",
    "print(f'Características do melhor estimador: {busca.best_estimator_}.')"
   ]
  },
  {
   "cell_type": "markdown",
   "id": "0b5ab185",
   "metadata": {},
   "source": [
    "# 02. Explorando por mais tempo espaços maiores"
   ]
  },
  {
   "cell_type": "markdown",
   "id": "d6e21824",
   "metadata": {},
   "source": [
    "Já que o espaço de parâmetros é explorado de de maneira aleatória e o tempo total comparado ao GridSearch + validação diminuiu consideravelmente, é possível dar uma abertura maior para os valores de cada parâmetro."
   ]
  },
  {
   "cell_type": "code",
   "execution_count": 42,
   "id": "5c568c46",
   "metadata": {},
   "outputs": [],
   "source": [
    "np.random.seed(333)\n",
    "\n",
    "espaco_de_parametros = {\n",
    "    \"max_depth\" : list(range(2, 20)),\n",
    "    \"min_samples_split\": randint(0.1*dados.shape[0]/(1e2), 5*dados.shape[0]/(1e2)), #  0.1% a 5% da len\n",
    "    \"min_samples_leaf\": randint(0.1*dados.shape[0]/(1e2), 5*dados.shape[0]/(1e2)),\n",
    "    \"criterion\": [\"gini\", \"entropy\"]\n",
    "}\n",
    "\n",
    "# Instanciando e ajustando \n",
    "busca = RandomizedSearchCV(DecisionTreeClassifier(), espaco_de_parametros, n_iter=128,\n",
    "                           cv=KFold(n_splits=5, shuffle=True))\n",
    "busca.fit(x, y)\n",
    "\n",
    "# Armazenando resultados num DataFrame\n",
    "resultados = pd.DataFrame(busca.cv_results_)"
   ]
  },
  {
   "cell_type": "code",
   "execution_count": 43,
   "id": "ead37c45",
   "metadata": {},
   "outputs": [
    {
     "name": "stdout",
     "output_type": "stream",
     "text": [
      "A acurácia obtida está em [77.13%, 80.25%].\n",
      "Características do melhor estimador: DecisionTreeClassifier(max_depth=4, min_samples_leaf=172, min_samples_split=398).\n"
     ]
    }
   ],
   "source": [
    "np.random.seed(333)\n",
    "# Score por nested cross validation\n",
    "scores = cross_val_score(busca, x, y, cv=KFold(n_splits=5, shuffle=True))\n",
    "print(f'A acurácia obtida está em [{round((scores.mean()-2*scores.std())*100, 2)}%, {round((scores.mean()+ 2*scores.std())*100, 2)}%].')\n",
    "\n",
    "# Melhor estimador encontrado\n",
    "print(f'Características do melhor estimador: {busca.best_estimator_}.')"
   ]
  },
  {
   "cell_type": "markdown",
   "id": "ec8161e7",
   "metadata": {},
   "source": [
    "# 03. Baseline com busca exaustiva no espaço discretizado"
   ]
  },
  {
   "cell_type": "markdown",
   "id": "05e882b7",
   "metadata": {},
   "source": [
    "Para fazer uma comparação com a busca aleatória, faz-se de uma inspeção pelo GridSearchCV num espaço discretizado medindo o tempo. Ambas as abordagem possuem suas vantages e em um caso real é provável que não sejam testadas as duas já que o tempo gasto seria muito elevado. Apesar disso, é visível que o GridSearch se torna praticamente inviável para espaços de parâmetros com um alta dimensão e muitas valores possíveis. Aqui, são somente 2x2x3x3x2x2 = 144 combinações em 6 dimensões e o tempo total entre GridSearch e cross_val_score foi cerca de 16 minutos."
   ]
  },
  {
   "cell_type": "code",
   "execution_count": 58,
   "id": "65f53407",
   "metadata": {},
   "outputs": [
    {
     "name": "stdout",
     "output_type": "stream",
     "text": [
      "Wall time: 3min 3s\n"
     ]
    }
   ],
   "source": [
    "%%time\n",
    "np.random.seed(333)\n",
    "\n",
    "espaco_de_parametros = {\n",
    "    'n_estimators': [10, 100],\n",
    "    \"max_depth\" : [3, 5],\n",
    "    \"min_samples_split\": [32, 64, 128], #  0.1% a 5% da len\n",
    "    \"min_samples_leaf\": [32, 64, 128],\n",
    "    'bootstrap': [True, False],\n",
    "    \"criterion\": [\"gini\", \"entropy\"]\n",
    "}\n",
    "\n",
    "busca = GridSearchCV(RandomForestClassifier(), espaco_de_parametros, cv=KFold(n_splits = 5, shuffle=True))\n",
    "busca.fit(x, y)\n",
    "\n",
    "resultados = pd.DataFrame(busca.cv_results_)"
   ]
  },
  {
   "cell_type": "code",
   "execution_count": 59,
   "id": "7691fb80",
   "metadata": {},
   "outputs": [
    {
     "name": "stdout",
     "output_type": "stream",
     "text": [
      "A acurácia obtida está em [76.15%, 79.21%].\n",
      "Características do melhor estimador: RandomForestClassifier(max_depth=5, min_samples_leaf=64, min_samples_split=64,\n",
      "                       n_estimators=10).\n",
      "Wall time: 12min 52s\n"
     ]
    }
   ],
   "source": [
    "%%time\n",
    "np.random.seed(333)\n",
    "\n",
    "scores = cross_val_score(busca, x, y, cv=KFold(n_splits=5, shuffle=True))\n",
    "print(f'A acurácia obtida está em [{round((scores.mean()-2*scores.std())*100, 2)}%, {round((scores.mean()+ 2*scores.std())*100, 2)}%].')\n",
    "\n",
    "# Melhor estimador encontrado\n",
    "print(f'Características do melhor estimador: {busca.best_estimator_}.')"
   ]
  },
  {
   "cell_type": "markdown",
   "id": "3a3c1a31",
   "metadata": {},
   "source": [
    "# 04. Comparando com busca aleatória"
   ]
  },
  {
   "cell_type": "markdown",
   "id": "4d710b76",
   "metadata": {},
   "source": [
    "Agora, rodando o RandomizedSearchCV para o mesmo espaço de parâmetros e um n_iter menor que as 144 combinações vistas antes no GridSearchCV."
   ]
  },
  {
   "cell_type": "code",
   "execution_count": 61,
   "id": "c9d89f21",
   "metadata": {},
   "outputs": [
    {
     "name": "stdout",
     "output_type": "stream",
     "text": [
      "Wall time: 27.5 s\n"
     ]
    }
   ],
   "source": [
    "%%time\n",
    "np.random.seed(333)\n",
    "\n",
    "espaco_de_parametros = {\n",
    "    'n_estimators': [10, 100],\n",
    "    \"max_depth\" : [3, 5],\n",
    "    \"min_samples_split\": [32, 64, 128], #  0.1% a 5% da len\n",
    "    \"min_samples_leaf\": [32, 64, 128],\n",
    "    'bootstrap': [True, False],\n",
    "    \"criterion\": [\"gini\", \"entropy\"]\n",
    "}\n",
    "\n",
    "busca = RandomizedSearchCV(RandomForestClassifier(), espaco_de_parametros,\n",
    "                           cv=KFold(n_splits = 5, shuffle=True), n_iter=20)\n",
    "busca.fit(x, y)\n",
    "\n",
    "resultados = pd.DataFrame(busca.cv_results_)"
   ]
  },
  {
   "cell_type": "code",
   "execution_count": 62,
   "id": "44fbbce0",
   "metadata": {},
   "outputs": [
    {
     "name": "stdout",
     "output_type": "stream",
     "text": [
      "A acurácia obtida está em [75.7%, 78.7%].\n",
      "Características do melhor estimador: RandomForestClassifier(max_depth=5, min_samples_leaf=32, min_samples_split=32,\n",
      "                       n_estimators=10).\n",
      "Wall time: 1min 52s\n"
     ]
    }
   ],
   "source": [
    "%%time\n",
    "np.random.seed(333)\n",
    "\n",
    "scores = cross_val_score(busca, x, y, cv=KFold(n_splits=5, shuffle=True))\n",
    "print(f'A acurácia obtida está em [{round((scores.mean()-2*scores.std())*100, 2)}%, {round((scores.mean()+ 2*scores.std())*100, 2)}%].')\n",
    "\n",
    "# Melhor estimador encontrado\n",
    "print(f'Características do melhor estimador: {busca.best_estimator_}.')"
   ]
  },
  {
   "cell_type": "code",
   "execution_count": 63,
   "id": "b11d0c69",
   "metadata": {},
   "outputs": [
    {
     "data": {
      "text/plain": [
       "0.0074766302570074845"
      ]
     },
     "execution_count": 63,
     "metadata": {},
     "output_type": "execute_result"
    }
   ],
   "source": [
    "scores.std()"
   ]
  },
  {
   "cell_type": "markdown",
   "id": "bd40bf11",
   "metadata": {},
   "source": [
    "O resultado foi encontrado em um espaço de tempo bem reduzido: um pouco menos de 2 minutos e meio. Quanto ao resultado em si, de um modo geral, a média foi pior com um desvio menor e o estimador final teve alguns parâmetros diferentes comparado ao encontrado pela varredura completa. Avaliar a validade de paremetrizar pelo GridSearch depende da capacidade computacional e da aplicação (precisão/acurácia desejada), já que, no fim, o resultado não foi tão distante."
   ]
  },
  {
   "cell_type": "markdown",
   "id": "923ac0f1",
   "metadata": {},
   "source": [
    "# 05. Otimização de hiperparâmetros sem validação cruzada (treino, teste e validação)"
   ]
  },
  {
   "cell_type": "markdown",
   "id": "89d55559",
   "metadata": {},
   "source": [
    "Quando não se usa validação cruzada, é necessário deixar uma parte do conjunto de dados separada de antemão para executar a técnica do holdout ao avaliar o modelo; cria-se um conjunto de validação para avaliar o modelo escolhido após o refinamento do período de escolha."
   ]
  },
  {
   "cell_type": "code",
   "execution_count": 69,
   "id": "2b9674c2",
   "metadata": {},
   "outputs": [],
   "source": [
    "# 60% treino, 20% teste, 20% validação; *em relação a x*\n",
    "np.random.seed(333)\n",
    "\n",
    "# Aqui, o parâmetro test_size é usado para separar o conjunto de validação\n",
    "x_treino_teste, x_validacao, y_treino_teste, y_validacao = train_test_split(x, y, test_size=0.2, \n",
    "                                                                            shuffle=True, stratify=y)"
   ]
  },
  {
   "cell_type": "code",
   "execution_count": 78,
   "id": "be531850",
   "metadata": {},
   "outputs": [
    {
     "name": "stdout",
     "output_type": "stream",
     "text": [
      "Wall time: 4.13 s\n"
     ]
    }
   ],
   "source": [
    "%%time\n",
    "np.random.seed(333)\n",
    "\n",
    "espaco_de_parametros = {\n",
    "    \"n_estimators\" : randint(10, 101),\n",
    "    \"max_depth\" : randint(3, 6),\n",
    "    \"min_samples_split\": randint(32, 129),\n",
    "    \"min_samples_leaf\": randint(32, 129),\n",
    "    \"bootstrap\" : [True, False],\n",
    "    \"criterion\": [\"gini\", \"entropy\"]\n",
    "}\n",
    "\n",
    "# Como os valores eram em relação a (x) e, aqui, test_size é informado em relação ao fit feito em\n",
    "# *x_treino_teste*, ele deve ser convertido para %(x_treino_teste) --> (0.16/0.80 = 0.25)\n",
    "split = StratifiedShuffleSplit(n_splits=1, test_size=0.25)\n",
    "busca = RandomizedSearchCV(RandomForestClassifier(), espaco_de_parametros,\n",
    "                           cv=split, n_iter=20)\n",
    "busca.fit(x_treino_teste, y_treino_teste)\n",
    "\n",
    "resultados = pd.DataFrame(busca.cv_results_)"
   ]
  },
  {
   "cell_type": "code",
   "execution_count": 79,
   "id": "f3ec3234",
   "metadata": {},
   "outputs": [
    {
     "name": "stdout",
     "output_type": "stream",
     "text": [
      "A acurácia obtida foi de 78.0%.\n",
      "Características do melhor estimador: RandomForestClassifier(max_depth=4, min_samples_leaf=77, min_samples_split=108,\n",
      "                       n_estimators=11).\n",
      "Wall time: 1.44 s\n"
     ]
    }
   ],
   "source": [
    "%%time\n",
    "np.random.seed(333)\n",
    "\n",
    "scores = cross_val_score(busca, x_validacao, y_validacao, cv=split)\n",
    "print(f'A acurácia obtida foi de {round(scores[0]*100, 2)}%.')\n",
    "\n",
    "# Melhor estimador encontrado\n",
    "print(f'Características do melhor estimador: {busca.best_estimator_}.')"
   ]
  }
 ],
 "metadata": {
  "kernelspec": {
   "display_name": "Python 3 (ipykernel)",
   "language": "python",
   "name": "python3"
  },
  "language_info": {
   "codemirror_mode": {
    "name": "ipython",
    "version": 3
   },
   "file_extension": ".py",
   "mimetype": "text/x-python",
   "name": "python",
   "nbconvert_exporter": "python",
   "pygments_lexer": "ipython3",
   "version": "3.9.7"
  }
 },
 "nbformat": 4,
 "nbformat_minor": 5
}
