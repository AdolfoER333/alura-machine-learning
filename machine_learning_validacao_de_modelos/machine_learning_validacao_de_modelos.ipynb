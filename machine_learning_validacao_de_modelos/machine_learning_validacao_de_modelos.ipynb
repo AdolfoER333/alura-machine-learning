{
 "cells": [
  {
   "cell_type": "code",
   "execution_count": 1,
   "id": "1393da33",
   "metadata": {},
   "outputs": [],
   "source": [
    "from sklearn.tree import DecisionTreeClassifier\n",
    "from sklearn.model_selection import cross_validate, KFold, StratifiedKFold, GroupKFold\n",
    "from sklearn.preprocessing import StandardScaler\n",
    "from sklearn.svm import SVC\n",
    "from sklearn.pipeline import Pipeline\n",
    "\n",
    "import pandas as pd\n",
    "import numpy as np\n",
    "\n",
    "from datetime import datetime"
   ]
  },
  {
   "cell_type": "code",
   "execution_count": 2,
   "id": "171a4d22",
   "metadata": {},
   "outputs": [],
   "source": [
    "def resultados_aux(resultados):\n",
    "    \"\"\"Exibe os resultados de acurácia no formato intervalo de confiança após rodar o cross validate\n",
    "    \n",
    "    Args:\n",
    "        resultados(array): contém as acurácias para cada configuração do dataset\n",
    "    \"\"\"\n",
    "    media = resultados.mean()\n",
    "    dp = resultados.std()\n",
    "    print(f'Acurácia de [{round((media-2*dp)*100, 2)}%, {round((media+2*dp)*100, 2)}%].')\n",
    "    \n",
    "    pass\n"
   ]
  },
  {
   "cell_type": "code",
   "execution_count": 3,
   "id": "63252c97",
   "metadata": {},
   "outputs": [
    {
     "data": {
      "text/html": [
       "<div>\n",
       "<style scoped>\n",
       "    .dataframe tbody tr th:only-of-type {\n",
       "        vertical-align: middle;\n",
       "    }\n",
       "\n",
       "    .dataframe tbody tr th {\n",
       "        vertical-align: top;\n",
       "    }\n",
       "\n",
       "    .dataframe thead th {\n",
       "        text-align: right;\n",
       "    }\n",
       "</style>\n",
       "<table border=\"1\" class=\"dataframe\">\n",
       "  <thead>\n",
       "    <tr style=\"text-align: right;\">\n",
       "      <th></th>\n",
       "      <th>preco</th>\n",
       "      <th>vendido</th>\n",
       "      <th>km_por_ano</th>\n",
       "      <th>idade_do_modelo</th>\n",
       "    </tr>\n",
       "  </thead>\n",
       "  <tbody>\n",
       "    <tr>\n",
       "      <th>0</th>\n",
       "      <td>30941.02</td>\n",
       "      <td>1</td>\n",
       "      <td>35085.308544</td>\n",
       "      <td>22</td>\n",
       "    </tr>\n",
       "    <tr>\n",
       "      <th>1</th>\n",
       "      <td>40557.96</td>\n",
       "      <td>1</td>\n",
       "      <td>12622.084992</td>\n",
       "      <td>24</td>\n",
       "    </tr>\n",
       "    <tr>\n",
       "      <th>2</th>\n",
       "      <td>89627.50</td>\n",
       "      <td>0</td>\n",
       "      <td>11440.826496</td>\n",
       "      <td>16</td>\n",
       "    </tr>\n",
       "    <tr>\n",
       "      <th>3</th>\n",
       "      <td>95276.14</td>\n",
       "      <td>0</td>\n",
       "      <td>43167.434112</td>\n",
       "      <td>7</td>\n",
       "    </tr>\n",
       "    <tr>\n",
       "      <th>4</th>\n",
       "      <td>117384.68</td>\n",
       "      <td>1</td>\n",
       "      <td>12770.144640</td>\n",
       "      <td>8</td>\n",
       "    </tr>\n",
       "  </tbody>\n",
       "</table>\n",
       "</div>"
      ],
      "text/plain": [
       "       preco  vendido    km_por_ano  idade_do_modelo\n",
       "0   30941.02        1  35085.308544               22\n",
       "1   40557.96        1  12622.084992               24\n",
       "2   89627.50        0  11440.826496               16\n",
       "3   95276.14        0  43167.434112                7\n",
       "4  117384.68        1  12770.144640                8"
      ]
     },
     "metadata": {},
     "output_type": "display_data"
    }
   ],
   "source": [
    "# Usando os mesmos dados do curso 1 (Machine learning: introdução a classificação com SKLearn\n",
    "\n",
    "uri = 'https://gist.githubusercontent.com/guilhermesilveira/4d1d4a16ccbf6ea4e0a64a38a24ec884/raw/afd05cb0c796d18f3f5a6537053ded308ba94bf7/car-prices.csv'\n",
    "dados = pd.read_csv(uri)\n",
    "\n",
    "# Fazer algumas modificações no conjunto de dados:\n",
    "#    - Renomear para português; milhas -> km; ano do modelo -> idade do modelo; (yes, no) -> (1, 0)\n",
    "nomes = {\n",
    "    'mileage_per_year' : 'milhas_por_ano',\n",
    "    'model_year' : 'ano_do_modelo',\n",
    "    'price' : 'preco',\n",
    "    'sold' : 'vendido'\n",
    "}\n",
    "\n",
    "vendido_map = {\n",
    "    'yes' : 1,\n",
    "    'no' : 0\n",
    "}\n",
    "\n",
    "dados = dados.rename(columns=nomes)\n",
    "dados['km_por_ano'] = dados.milhas_por_ano*1.609344\n",
    "dados['idade_do_modelo'] = datetime.today().year - dados.ano_do_modelo\n",
    "dados.vendido = dados.vendido.map(vendido_map)\n",
    "\n",
    "dados = dados.drop(columns=['Unnamed: 0', 'milhas_por_ano', 'ano_do_modelo'])\n",
    "display(dados.head())\n",
    "\n",
    "# Separar entre features e labels\n",
    "x = dados[['preco', 'km_por_ano', 'idade_do_modelo']]\n",
    "y = dados['vendido']"
   ]
  },
  {
   "cell_type": "markdown",
   "id": "a7139cbe",
   "metadata": {},
   "source": [
    "# 01. Validação cruzada e aleatoriedade inicial"
   ]
  },
  {
   "cell_type": "code",
   "execution_count": 4,
   "id": "aec12629",
   "metadata": {},
   "outputs": [
    {
     "name": "stdout",
     "output_type": "stream",
     "text": [
      "Acurácia de [75.21%, 76.35%].\n"
     ]
    }
   ],
   "source": [
    "# Instanciando o modelo\n",
    "modelo = DecisionTreeClassifier(max_depth=2)\n",
    "\n",
    "# Aplicando o cross validate\n",
    "resultados = cross_validate(modelo, x, y, cv=5)['test_score']\n",
    "\n",
    "# Exibição considerando intervalo de confiança 95%\n",
    "resultados_aux(resultados)"
   ]
  },
  {
   "cell_type": "markdown",
   "id": "346ddc3a",
   "metadata": {},
   "source": [
    "# 02. KFold e aleatoriedade"
   ]
  },
  {
   "cell_type": "markdown",
   "id": "236252a5",
   "metadata": {},
   "source": [
    "A forma de fazer com que a validação cruzada rode com o conjunto de dados previamente embaralhada é por meio de um gerador de validação cruzada que, no caso, é o KFold"
   ]
  },
  {
   "cell_type": "code",
   "execution_count": 5,
   "id": "6f5ca132",
   "metadata": {},
   "outputs": [
    {
     "name": "stdout",
     "output_type": "stream",
     "text": [
      "Acurácia de [74.25%, 77.31%].\n"
     ]
    }
   ],
   "source": [
    "np.random.seed(333)\n",
    "\n",
    "modelo = DecisionTreeClassifier(max_depth=2)\n",
    "cv = KFold(n_splits=5, shuffle=True)\n",
    "resultados = cross_validate(modelo, x, y, cv=cv)['test_score']\n",
    "\n",
    "resultados_aux(resultados)"
   ]
  },
  {
   "cell_type": "markdown",
   "id": "ca65b9da",
   "metadata": {},
   "source": [
    "# 03. Estratificação"
   ]
  },
  {
   "cell_type": "code",
   "execution_count": 6,
   "id": "67ef95fb",
   "metadata": {},
   "outputs": [
    {
     "name": "stdout",
     "output_type": "stream",
     "text": [
      "Acurácia de [32.22%, 87.18%].\n"
     ]
    }
   ],
   "source": [
    "# Simulando uma situação de desbalanceamento dos labels enviados ao cross validate ou de 'azar':\n",
    "\n",
    "# Ordenar o dataset pelos labels\n",
    "dados_azar = dados.sort_values(by='vendido', ascending=True)\n",
    "x_azar = dados_azar.drop(columns=['vendido'])\n",
    "y_azar = dados_azar['vendido']\n",
    "\n",
    "# Enviar ao cross validate sem utilzar o shuffle\n",
    "modelo = DecisionTreeClassifier(max_depth=2)\n",
    "resultados = cross_validate(modelo, x_azar, y_azar, cv=KFold(n_splits=5))['test_score']\n",
    "resultados_aux(resultados)"
   ]
  },
  {
   "cell_type": "code",
   "execution_count": 7,
   "id": "a9ec36a1",
   "metadata": {},
   "outputs": [
    {
     "name": "stdout",
     "output_type": "stream",
     "text": [
      "Acurácia de [73.88%, 77.68%].\n"
     ]
    }
   ],
   "source": [
    "# Usando o shuffle, a acurácia volta a um nível normal\n",
    "np.random.seed(333)\n",
    "resultados_shuffle = cross_validate(modelo, x_azar, y_azar, \n",
    "                                    cv=KFold(n_splits=5, shuffle=True))['test_score']\n",
    "resultados_aux(resultados_shuffle)"
   ]
  },
  {
   "cell_type": "code",
   "execution_count": 8,
   "id": "ed86d08e",
   "metadata": {},
   "outputs": [
    {
     "name": "stdout",
     "output_type": "stream",
     "text": [
      "Acurácia de [73.37%, 78.19%].\n"
     ]
    }
   ],
   "source": [
    "# Também é possível fazer com que teste e treino mantenham as proporções do dataset, usando stratifiedkfold\n",
    "np.random.seed(333)\n",
    "resultados_shuffle = cross_validate(modelo, x_azar, y_azar, \n",
    "                                    cv=StratifiedKFold(n_splits=5, shuffle=True))['test_score']\n",
    "resultados_aux(resultados_shuffle)"
   ]
  },
  {
   "cell_type": "markdown",
   "id": "30b3b199",
   "metadata": {},
   "source": [
    "# 04. Dados agrupáveis"
   ]
  },
  {
   "cell_type": "markdown",
   "id": "e9dc1e29",
   "metadata": {},
   "source": [
    "Num caso em que se tem várias entradas que podem ser classificadas em um mesmo grupo real, é desejado que o algoritmo não use essas entradas similares separadas entre treino e teste: somente em um cenário ou outro.\n",
    "\n",
    "Foi usado como exemplo em aula um algortimo que usa entradas de pacientes, sendo assim seria desejável agrupar todas as entradas de mesmos pacientes para que o algortimo só fosse testado em pacientes novos e não acabasse testado nos mesmos em que foi treinado.\n",
    "\n",
    "O cross_validate suporta esse aspecto com o parâmetro groups, alinhado ao GroupKFold, e aqui será usada uma coluna aleatória de 'modelo do carro'. Vale destacar que essa coluna nova não é usada para treinar o modelo, apenas para agrupá-lo na divisão"
   ]
  },
  {
   "cell_type": "code",
   "execution_count": 9,
   "id": "c503960e",
   "metadata": {
    "scrolled": true
   },
   "outputs": [
    {
     "data": {
      "text/plain": [
       "array([24, 22, 16,  8,  9, 14, 21, 12, 20,  5, 15, 17, 19, 18,  7, 11, 13,\n",
       "       23, 10, 25, 26,  4,  6,  3], dtype=int64)"
      ]
     },
     "execution_count": 9,
     "metadata": {},
     "output_type": "execute_result"
    }
   ],
   "source": [
    "dados['modelo'] = dados.idade_do_modelo + np.random.randint(-2, 3, size=dados.shape[0])\n",
    "dados.modelo.unique()"
   ]
  },
  {
   "cell_type": "code",
   "execution_count": 10,
   "id": "9b11b864",
   "metadata": {
    "scrolled": true
   },
   "outputs": [
    {
     "name": "stdout",
     "output_type": "stream",
     "text": [
      "Acurácia de [72.29%, 79.25%].\n"
     ]
    }
   ],
   "source": [
    "np.random.seed(333)\n",
    "modelo = DecisionTreeClassifier(max_depth=2)\n",
    "cv = GroupKFold(n_splits=5)\n",
    "resultados = cross_validate(modelo, x, y, groups=dados.modelo, cv=cv)['test_score']\n",
    "resultados_aux(resultados)"
   ]
  },
  {
   "cell_type": "markdown",
   "id": "2481e2ab",
   "metadata": {},
   "source": [
    "# 05. Pipeline de treino e validação "
   ]
  },
  {
   "cell_type": "markdown",
   "id": "cb75bca8",
   "metadata": {},
   "source": [
    "Supondo que os dados precisassem passar por uma normalização, por exemplo, antes do treinamento do modelo, isso deveria ser feito após a divisão entre amostras de treino e teste uma vez que o próprio scaler é ajustado à amostra fornecida (no caso, a de treino). Quando usa-se o cross_validate, a intenção é justamente pela intenção de realizar um rodízio nessa divisão treino/teste, então o scaler deveria ser aplicado a cada iteração com uma diferente divisão. Para tornar isso possível, existe a pipeline implementada no sklearn, por meio das quais as operações podem ser passadas com uma dada ordem."
   ]
  },
  {
   "cell_type": "code",
   "execution_count": 11,
   "id": "ef478c45",
   "metadata": {},
   "outputs": [
    {
     "name": "stdout",
     "output_type": "stream",
     "text": [
      "Acurácia de [75.89%, 77.31%].\n"
     ]
    }
   ],
   "source": [
    "np.random.seed(333)\n",
    "\n",
    "# Criando o objeto pipeline\n",
    "scaler = StandardScaler()\n",
    "modelo = SVC()\n",
    "pipeline = Pipeline([('transformacao', scaler), ('estimador', modelo)])\n",
    "\n",
    "# Fazendo o cross validate: ao invés de ter como input o modelo, tem-se a pipeline\n",
    "resultados = cross_validate(pipeline, x, y, cv=KFold(n_splits=5, shuffle=True))['test_score']\n",
    "resultados_aux(resultados)"
   ]
  }
 ],
 "metadata": {
  "kernelspec": {
   "display_name": "Python 3 (ipykernel)",
   "language": "python",
   "name": "python3"
  },
  "language_info": {
   "codemirror_mode": {
    "name": "ipython",
    "version": 3
   },
   "file_extension": ".py",
   "mimetype": "text/x-python",
   "name": "python",
   "nbconvert_exporter": "python",
   "pygments_lexer": "ipython3",
   "version": "3.9.7"
  }
 },
 "nbformat": 4,
 "nbformat_minor": 5
}
