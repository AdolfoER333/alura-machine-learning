{
 "cells": [
  {
   "cell_type": "code",
   "execution_count": 1,
   "id": "bb99f2cd",
   "metadata": {},
   "outputs": [],
   "source": [
    "from sklearn.naive_bayes import MultinomialNB\n",
    "from sklearn.ensemble import AdaBoostClassifier\n",
    "\n",
    "from collections import Counter\n",
    "import pandas as pd\n",
    "import math"
   ]
  },
  {
   "cell_type": "code",
   "execution_count": 2,
   "id": "e6086f55",
   "metadata": {},
   "outputs": [],
   "source": [
    "def fit_and_predict(X, Y, modelo, porcentagem_treino=0.9, porcentagem_teste=0.1):\n",
    "    \"\"\"Agrupa o processo de segregar os dados, treinar o modelo e emitir a taxa de acerto\n",
    "    \n",
    "    Args:\n",
    "        X (dataframe): conjunto de valores para as features do modelo\n",
    "        Y (dataframe): valores da função alvo para o input X (f(X) = Y)\n",
    "        modelo (scikit model): modelo da biblioteca sklearn\n",
    "        porcentagem_treino (float): decimal do conjunto de dados para treino\n",
    "        porcentagem_teste (float): decimal do conjunto de dados para teste\n",
    "        \n",
    "    Returns:\n",
    "        taxa_de_acerto(float): taxa de acerto relativa do modelo em decimal\n",
    "    \"\"\"\n",
    "    tamanho_de_treino = math.floor(porcentagem_treino * len(Y))\n",
    "    tamanho_de_teste = tamanho_de_treino + math.floor(porcentagem_teste*len(Y))\n",
    "    \n",
    "    # Divisão do conjunto de dados\n",
    "    treino_dados = X[:tamanho_de_treino]\n",
    "    treino_marcacoes = Y[:tamanho_de_treino]\n",
    "    \n",
    "    teste_dados = X[tamanho_de_treino:(tamanho_de_treino+tamanho_de_teste)]\n",
    "    teste_marcacoes = Y[tamanho_de_treino:(tamanho_de_treino+tamanho_de_teste)]\n",
    "    \n",
    "    validacao_dados = X[(tamanho_de_treino+tamanho_de_teste):]\n",
    "    validacao_marcacoes = Y[(tamanho_de_treino+tamanho_de_teste):]\n",
    "    \n",
    "    # Execução do modelo\n",
    "    modelo.fit(treino_dados, treino_marcacoes)\n",
    "\n",
    "    resultado = modelo.predict(teste_dados)\n",
    "    taxa_de_acerto = sum(resultado==teste_marcacoes)/len(teste_marcacoes)\n",
    "\n",
    "    return taxa_de_acerto"
   ]
  },
  {
   "cell_type": "markdown",
   "id": "f503960d",
   "metadata": {},
   "source": [
    "# 01. Classificando E-mails, animais e muito mais"
   ]
  },
  {
   "cell_type": "code",
   "execution_count": 3,
   "id": "0735125a",
   "metadata": {},
   "outputs": [
    {
     "name": "stdout",
     "output_type": "stream",
     "text": [
      "Taxa de acerto de 66.67%.\n"
     ]
    }
   ],
   "source": [
    "# Introdução para exemplificar no que consiste a classificação (parecido com o do curso de sklearn)\n",
    "porco1 = [1, 1, 0]\n",
    "porco2 = [1, 1, 0]\n",
    "porco3 = [1, 1, 0]\n",
    "cachorro4 = [1, 1, 1]\n",
    "cachorro5 = [0, 1, 1]\n",
    "cachorro6 = [0, 1, 1]\n",
    "\n",
    "dados = [porco1, porco2, porco3, cachorro4, cachorro5, cachorro6]\n",
    "\n",
    "# 1 -> porco, -1 -> cachorro\n",
    "marcacoes = [1, 1, 1, -1, -1, -1]\n",
    "\n",
    "modelo = MultinomialNB()\n",
    "modelo.fit(dados, marcacoes)\n",
    "\n",
    "misterioso1 = [1, 1, 1]\n",
    "misterioso2 = [1, 0, 0]\n",
    "misterioso3 = [0, 0, 1]\n",
    "marcacoes_teste = [-1, 1, 1]\n",
    "teste = [misterioso1, misterioso2, misterioso3]\n",
    "\n",
    "resultado = modelo.predict(teste)\n",
    "taxa_de_acerto = sum(resultado==marcacoes_teste)/len(marcacoes_teste)\n",
    "\n",
    "print(f'Taxa de acerto de {round(taxa_de_acerto*100, 2)}%.')"
   ]
  },
  {
   "cell_type": "markdown",
   "id": "171c788a",
   "metadata": {},
   "source": [
    "# 02. Importando, classificando e validando um modelo"
   ]
  },
  {
   "cell_type": "code",
   "execution_count": 18,
   "id": "df201a29",
   "metadata": {},
   "outputs": [
    {
     "name": "stdout",
     "output_type": "stream",
     "text": [
      "Taxa de acerto de 88.89%.\n"
     ]
    }
   ],
   "source": [
    "dados = pd.read_csv('dados/acesso.csv')\n",
    "dados.head()\n",
    "\n",
    "X = dados[['home', 'como_funciona', 'contato']]\n",
    "Y = dados['comprou']\n",
    "\n",
    "treino_dados = X[:90]\n",
    "treino_marcacoes = Y[:90]\n",
    "\n",
    "teste_dados = X[90:]\n",
    "teste_marcacoes = Y[90:]\n",
    "\n",
    "modelo = MultinomialNB()\n",
    "modelo.fit(treino_dados, treino_marcacoes)\n",
    "\n",
    "resultado = modelo.predict(teste_dados)\n",
    "\n",
    "taxa_de_acerto = sum(resultado==teste_marcacoes)/len(teste_marcacoes)\n",
    "print(f'Taxa de acerto de {round(taxa_de_acerto*100, 2)}%.')"
   ]
  },
  {
   "cell_type": "markdown",
   "id": "443819b4",
   "metadata": {},
   "source": [
    "# 03. Classificação de variáveis categóricas"
   ]
  },
  {
   "cell_type": "code",
   "execution_count": 19,
   "id": "08082d68",
   "metadata": {
    "scrolled": true
   },
   "outputs": [
    {
     "data": {
      "text/html": [
       "<div>\n",
       "<style scoped>\n",
       "    .dataframe tbody tr th:only-of-type {\n",
       "        vertical-align: middle;\n",
       "    }\n",
       "\n",
       "    .dataframe tbody tr th {\n",
       "        vertical-align: top;\n",
       "    }\n",
       "\n",
       "    .dataframe thead th {\n",
       "        text-align: right;\n",
       "    }\n",
       "</style>\n",
       "<table border=\"1\" class=\"dataframe\">\n",
       "  <thead>\n",
       "    <tr style=\"text-align: right;\">\n",
       "      <th></th>\n",
       "      <th>home</th>\n",
       "      <th>busca</th>\n",
       "      <th>logado</th>\n",
       "      <th>comprou</th>\n",
       "    </tr>\n",
       "  </thead>\n",
       "  <tbody>\n",
       "    <tr>\n",
       "      <th>0</th>\n",
       "      <td>0</td>\n",
       "      <td>algoritmos</td>\n",
       "      <td>1</td>\n",
       "      <td>1</td>\n",
       "    </tr>\n",
       "    <tr>\n",
       "      <th>1</th>\n",
       "      <td>0</td>\n",
       "      <td>java</td>\n",
       "      <td>0</td>\n",
       "      <td>1</td>\n",
       "    </tr>\n",
       "    <tr>\n",
       "      <th>2</th>\n",
       "      <td>1</td>\n",
       "      <td>algoritmos</td>\n",
       "      <td>0</td>\n",
       "      <td>1</td>\n",
       "    </tr>\n",
       "    <tr>\n",
       "      <th>3</th>\n",
       "      <td>1</td>\n",
       "      <td>ruby</td>\n",
       "      <td>1</td>\n",
       "      <td>0</td>\n",
       "    </tr>\n",
       "    <tr>\n",
       "      <th>4</th>\n",
       "      <td>1</td>\n",
       "      <td>ruby</td>\n",
       "      <td>0</td>\n",
       "      <td>1</td>\n",
       "    </tr>\n",
       "  </tbody>\n",
       "</table>\n",
       "</div>"
      ],
      "text/plain": [
       "   home       busca  logado  comprou\n",
       "0     0  algoritmos       1        1\n",
       "1     0        java       0        1\n",
       "2     1  algoritmos       0        1\n",
       "3     1        ruby       1        0\n",
       "4     1        ruby       0        1"
      ]
     },
     "execution_count": 19,
     "metadata": {},
     "output_type": "execute_result"
    }
   ],
   "source": [
    "df = pd.read_csv('dados/busca.csv')\n",
    "df.head()"
   ]
  },
  {
   "cell_type": "code",
   "execution_count": 6,
   "id": "2f5ef043",
   "metadata": {},
   "outputs": [
    {
     "name": "stdout",
     "output_type": "stream",
     "text": [
      "Taxa de acerto de 82.0%.\n"
     ]
    }
   ],
   "source": [
    "X_df = df[['home', 'busca', 'logado']]\n",
    "Y_df = df['comprou']\n",
    "\n",
    "X = pd.get_dummies(X_df).astype(int)\n",
    "Y = Y_df\n",
    "\n",
    "taxa_de_acerto = fit_and_predict(X, Y, modelo=MultinomialNB())\n",
    "print(f'Taxa de acerto de {round(taxa_de_acerto*100, 2)}%.')"
   ]
  },
  {
   "cell_type": "markdown",
   "id": "372df3cf",
   "metadata": {},
   "source": [
    "# 04. O problema do sucesso e o algoritmo burro"
   ]
  },
  {
   "cell_type": "code",
   "execution_count": 20,
   "id": "d0ce808e",
   "metadata": {},
   "outputs": [],
   "source": [
    "df = pd.read_csv('dados/busca.csv')\n",
    "df.head()\n",
    "\n",
    "X_df = df[['home', 'busca', 'logado']]\n",
    "Y_df = df['comprou']\n",
    "\n",
    "X = pd.get_dummies(X_df).astype(int)\n",
    "Y = Y_df"
   ]
  },
  {
   "cell_type": "code",
   "execution_count": 8,
   "id": "7a84c943",
   "metadata": {},
   "outputs": [
    {
     "name": "stdout",
     "output_type": "stream",
     "text": [
      "Taxa de acerto do algoritmo: 82.0%.\n",
      "Taxa de acerto base: 77.78%.\n"
     ]
    }
   ],
   "source": [
    "# Baseline\n",
    "acerto_base = max(Counter(teste_marcacoes).values()) #No Python3, utilizamos o método values(). \n",
    "taxa_de_acerto_base = acerto_base / len(teste_marcacoes)\n",
    "\n",
    "# Algoritmo\n",
    "taxa_de_acerto_algoritmo = fit_and_predict(X, Y, modelo=MultinomialNB())\n",
    "\n",
    "print(f'Taxa de acerto do algoritmo: {round(taxa_de_acerto_algoritmo*100, 2)}%.')\n",
    "print(f'Taxa de acerto base: {round(taxa_de_acerto_base*100, 2)}%.')"
   ]
  },
  {
   "cell_type": "markdown",
   "id": "998d5e53",
   "metadata": {},
   "source": [
    "# 06. Testando diferentes modelos e validando o vencedor"
   ]
  },
  {
   "cell_type": "code",
   "execution_count": 21,
   "id": "7d9f271f",
   "metadata": {},
   "outputs": [
    {
     "name": "stdout",
     "output_type": "stream",
     "text": [
      "Taxa de acerto MultinomialNB: 82.0%.\n",
      "Taxa de acerto AdaBoost: 84.5%.\n",
      "Taxa de acerto base: 77.78%.\n",
      "\n",
      "\n",
      "Qtd. utilizada para testes: 100.\n"
     ]
    }
   ],
   "source": [
    "df = pd.read_csv('dados/busca.csv')\n",
    "df.head()\n",
    "\n",
    "X_df = df[['home', 'busca', 'logado']]\n",
    "Y_df = df['comprou']\n",
    "\n",
    "X = pd.get_dummies(X_df).astype(int)\n",
    "Y = Y_df\n",
    "\n",
    "porcentagem_treino = 0.8\n",
    "porcentagem_teste = 0.1 # Padrão\n",
    "\n",
    "# Para armazenar as instâncias de cada modelo e guardar o fit\n",
    "modelo_nb = MultinomialNB()\n",
    "modelo_ada = AdaBoostClassifier()\n",
    "\n",
    "taxa_de_acerto_NB = fit_and_predict(X, Y, modelo=modelo_nb, porcentagem_treino=porcentagem_treino)\n",
    "taxa_de_acerto_adaboost = fit_and_predict(X, Y, modelo=A, \n",
    "                                          porcentagem_treino=porcentagem_treino)\n",
    "taxa_de_acerto_base = max(Counter(teste_marcacoes).values())/len(teste_marcacoes)\n",
    "\n",
    "print(f'Taxa de acerto MultinomialNB: {round(taxa_de_acerto_NB*100, 2)}%.')\n",
    "print(f'Taxa de acerto AdaBoost: {round(taxa_de_acerto_adaboost*100, 2)}%.')\n",
    "print(f'Taxa de acerto base: {round(taxa_de_acerto_base*100, 2)}%.')\n",
    "print('\\n')\n",
    "print(f'Qtd. utilizada para testes: {math.floor(0.1*len(Y))}.')"
   ]
  },
  {
   "cell_type": "code",
   "execution_count": 17,
   "id": "a35eaedb",
   "metadata": {},
   "outputs": [
    {
     "name": "stdout",
     "output_type": "stream",
     "text": [
      "Taxa de acerto de validação para o AdaBoostClassifier: 85.0%.\n",
      "Qtd. utilizada para validação: 100.\n"
     ]
    }
   ],
   "source": [
    "# Validação\n",
    "tamanho_validacao = math.floor(porcentagem_treino*len(Y) + math.floor(porcentagem_teste*len(Y)))\n",
    "\n",
    "validacao_dados = X[tamanho_validacao:]\n",
    "validacao_marcacoes = Y[tamanho_validacao:]\n",
    "                         \n",
    "if taxa_de_acerto_NB > taxa_de_acerto_adaboost:\n",
    "    modelo_vencedor = MultinomialNB()\n",
    "else:\n",
    "    modelo_vencedor = A\n",
    "\n",
    "taxa_de_acerto_validacao = sum(modelo_vencedor.predict(validacao_dados) == validacao_marcacoes)/len(validacao_marcacoes)\n",
    "print(f'Taxa de acerto de validação para o {type(modelo_vencedor).__name__}: {round(taxa_de_acerto_validacao*100, 2)}%.')\n",
    "print(f'Qtd. utilizada para validação: {len(validacao_marcacoes)}.')"
   ]
  }
 ],
 "metadata": {
  "kernelspec": {
   "display_name": "Python 3 (ipykernel)",
   "language": "python",
   "name": "python3"
  },
  "language_info": {
   "codemirror_mode": {
    "name": "ipython",
    "version": 3
   },
   "file_extension": ".py",
   "mimetype": "text/x-python",
   "name": "python",
   "nbconvert_exporter": "python",
   "pygments_lexer": "ipython3",
   "version": "3.9.7"
  },
  "widgets": {
   "application/vnd.jupyter.widget-state+json": {
    "state": {},
    "version_major": 2,
    "version_minor": 0
   }
  }
 },
 "nbformat": 4,
 "nbformat_minor": 5
}
