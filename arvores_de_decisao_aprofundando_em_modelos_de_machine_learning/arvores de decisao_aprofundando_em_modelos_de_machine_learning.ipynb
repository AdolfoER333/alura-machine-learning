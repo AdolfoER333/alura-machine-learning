{
 "cells": [
  {
   "cell_type": "code",
   "execution_count": 1,
   "id": "a82f4547",
   "metadata": {},
   "outputs": [],
   "source": [
    "from sklearn.model_selection import StratifiedShuffleSplit\n",
    "from sklearn.tree import DecisionTreeClassifier\n",
    "from sklearn.metrics import (accuracy_score, precision_score, recall_score, confusion_matrix,\n",
    "                            ConfusionMatrixDisplay)\n",
    "from sklearn.ensemble import RandomForestClassifier, AdaBoostClassifier\n",
    "\n",
    "import vaex\n",
    "\n",
    "import numpy as np\n",
    "\n",
    "import seaborn as sns"
   ]
  },
  {
   "cell_type": "code",
   "execution_count": 2,
   "id": "1aeae213",
   "metadata": {},
   "outputs": [],
   "source": [
    "def avalia_modelo(modelo, dados_empacotados):\n",
    "    \"\"\"Avalia o modelo de classificação com os dados de entrada nas métricas de acurácia, precisao e recall\n",
    "    \n",
    "    Args:\n",
    "        dados_empacotados (array): dados de treino e teste empacotados em um array para facilitar o input\n",
    "    \"\"\"\n",
    "    \n",
    "    # Desempacotando o input\n",
    "    x_treino, x_teste, y_treino, y_teste = dados_empacotados\n",
    "    # Ajustando\n",
    "    modelo.fit(x_treino, y_treino.ravel())\n",
    "    \n",
    "    # Avaliando métricas\n",
    "    y_pred = modelo.predict(x_teste)\n",
    "    acuracia = accuracy_score(y_teste, y_pred)\n",
    "    precisao = precision_score(y_teste, y_pred)\n",
    "    recall = recall_score(y_teste, y_pred)\n",
    "    \n",
    "    # Exibindo as métricas\n",
    "    print(f'Acurácia: {acuracia*100:.2f}%.')\n",
    "    print(f'Precisão: {precisao*100:.2f}%.')\n",
    "    print(f'Recall: {recall*100:.2f}%.')\n",
    "    # Exibindo a matriz de confusão\n",
    "    ConfusionMatrixDisplay.from_predictions(y_teste, y_pred)\n",
    "    \n",
    "    pass"
   ]
  },
  {
   "cell_type": "markdown",
   "id": "6b16ea43",
   "metadata": {},
   "source": [
    "# 02. Criando uma árvore de decisão"
   ]
  },
  {
   "cell_type": "code",
   "execution_count": 3,
   "id": "03bad0cf",
   "metadata": {},
   "outputs": [
    {
     "name": "stdout",
     "output_type": "stream",
     "text": [
      "(284807, 31)\n"
     ]
    },
    {
     "data": {
      "text/html": [
       "<table>\n",
       "<thead>\n",
       "<tr><th>#                            </th><th style=\"text-align: right;\">  Time</th><th style=\"text-align: right;\">       V1</th><th style=\"text-align: right;\">        V2</th><th style=\"text-align: right;\">     V3</th><th style=\"text-align: right;\">       V4</th><th style=\"text-align: right;\">        V5</th><th style=\"text-align: right;\">        V6</th><th style=\"text-align: right;\">       V7</th><th style=\"text-align: right;\">        V8</th><th style=\"text-align: right;\">       V9</th><th style=\"text-align: right;\">       V10</th><th style=\"text-align: right;\">      V11</th><th style=\"text-align: right;\">       V12</th><th style=\"text-align: right;\">      V13</th><th style=\"text-align: right;\">      V14</th><th style=\"text-align: right;\">      V15</th><th style=\"text-align: right;\">      V16</th><th style=\"text-align: right;\">      V17</th><th style=\"text-align: right;\">       V18</th><th style=\"text-align: right;\">      V19</th><th style=\"text-align: right;\">       V20</th><th style=\"text-align: right;\">       V21</th><th style=\"text-align: right;\">       V22</th><th style=\"text-align: right;\">      V23</th><th style=\"text-align: right;\">       V24</th><th style=\"text-align: right;\">      V25</th><th style=\"text-align: right;\">      V26</th><th style=\"text-align: right;\">       V27</th><th style=\"text-align: right;\">       V28</th><th style=\"text-align: right;\">  Amount</th><th style=\"text-align: right;\">  Class</th></tr>\n",
       "</thead>\n",
       "<tbody>\n",
       "<tr><td><i style='opacity: 0.6'>0</i></td><td style=\"text-align: right;\">     0</td><td style=\"text-align: right;\">-1.35981 </td><td style=\"text-align: right;\">-0.0727812</td><td style=\"text-align: right;\">2.53635</td><td style=\"text-align: right;\"> 1.37816 </td><td style=\"text-align: right;\">-0.338321 </td><td style=\"text-align: right;\"> 0.462388 </td><td style=\"text-align: right;\"> 0.239599</td><td style=\"text-align: right;\"> 0.0986979</td><td style=\"text-align: right;\"> 0.363787</td><td style=\"text-align: right;\"> 0.0907942</td><td style=\"text-align: right;\">-0.5516  </td><td style=\"text-align: right;\">-0.617801 </td><td style=\"text-align: right;\">-0.99139 </td><td style=\"text-align: right;\">-0.311169</td><td style=\"text-align: right;\"> 1.46818 </td><td style=\"text-align: right;\">-0.470401</td><td style=\"text-align: right;\"> 0.207971</td><td style=\"text-align: right;\"> 0.0257906</td><td style=\"text-align: right;\"> 0.403993</td><td style=\"text-align: right;\"> 0.251412 </td><td style=\"text-align: right;\">-0.0183068</td><td style=\"text-align: right;\"> 0.277838 </td><td style=\"text-align: right;\">-0.110474</td><td style=\"text-align: right;\"> 0.0669281</td><td style=\"text-align: right;\"> 0.128539</td><td style=\"text-align: right;\">-0.189115</td><td style=\"text-align: right;\"> 0.133558 </td><td style=\"text-align: right;\">-0.0210531</td><td style=\"text-align: right;\">  149.62</td><td style=\"text-align: right;\">      0</td></tr>\n",
       "<tr><td><i style='opacity: 0.6'>1</i></td><td style=\"text-align: right;\">     0</td><td style=\"text-align: right;\"> 1.19186 </td><td style=\"text-align: right;\"> 0.266151 </td><td style=\"text-align: right;\">0.16648</td><td style=\"text-align: right;\"> 0.448154</td><td style=\"text-align: right;\"> 0.0600176</td><td style=\"text-align: right;\">-0.0823608</td><td style=\"text-align: right;\">-0.078803</td><td style=\"text-align: right;\"> 0.0851017</td><td style=\"text-align: right;\">-0.255425</td><td style=\"text-align: right;\">-0.166974 </td><td style=\"text-align: right;\"> 1.61273 </td><td style=\"text-align: right;\"> 1.06524  </td><td style=\"text-align: right;\"> 0.489095</td><td style=\"text-align: right;\">-0.143772</td><td style=\"text-align: right;\"> 0.635558</td><td style=\"text-align: right;\"> 0.463917</td><td style=\"text-align: right;\">-0.114805</td><td style=\"text-align: right;\">-0.183361 </td><td style=\"text-align: right;\">-0.145783</td><td style=\"text-align: right;\">-0.0690831</td><td style=\"text-align: right;\">-0.225775 </td><td style=\"text-align: right;\">-0.638672 </td><td style=\"text-align: right;\"> 0.101288</td><td style=\"text-align: right;\">-0.339846 </td><td style=\"text-align: right;\"> 0.16717 </td><td style=\"text-align: right;\"> 0.125895</td><td style=\"text-align: right;\">-0.0089831</td><td style=\"text-align: right;\"> 0.0147242</td><td style=\"text-align: right;\">    2.69</td><td style=\"text-align: right;\">      0</td></tr>\n",
       "<tr><td><i style='opacity: 0.6'>2</i></td><td style=\"text-align: right;\">     1</td><td style=\"text-align: right;\">-1.35835 </td><td style=\"text-align: right;\">-1.34016  </td><td style=\"text-align: right;\">1.77321</td><td style=\"text-align: right;\"> 0.37978 </td><td style=\"text-align: right;\">-0.503198 </td><td style=\"text-align: right;\"> 1.8005   </td><td style=\"text-align: right;\"> 0.791461</td><td style=\"text-align: right;\"> 0.247676 </td><td style=\"text-align: right;\">-1.51465 </td><td style=\"text-align: right;\"> 0.207643 </td><td style=\"text-align: right;\"> 0.624501</td><td style=\"text-align: right;\"> 0.0660837</td><td style=\"text-align: right;\"> 0.717293</td><td style=\"text-align: right;\">-0.165946</td><td style=\"text-align: right;\"> 2.34586 </td><td style=\"text-align: right;\">-2.89008 </td><td style=\"text-align: right;\"> 1.10997 </td><td style=\"text-align: right;\">-0.121359 </td><td style=\"text-align: right;\">-2.26186 </td><td style=\"text-align: right;\"> 0.52498  </td><td style=\"text-align: right;\"> 0.247998 </td><td style=\"text-align: right;\"> 0.771679 </td><td style=\"text-align: right;\"> 0.909412</td><td style=\"text-align: right;\">-0.689281 </td><td style=\"text-align: right;\">-0.327642</td><td style=\"text-align: right;\">-0.139097</td><td style=\"text-align: right;\">-0.0553528</td><td style=\"text-align: right;\">-0.0597518</td><td style=\"text-align: right;\">  378.66</td><td style=\"text-align: right;\">      0</td></tr>\n",
       "<tr><td><i style='opacity: 0.6'>3</i></td><td style=\"text-align: right;\">     1</td><td style=\"text-align: right;\">-0.966272</td><td style=\"text-align: right;\">-0.185226 </td><td style=\"text-align: right;\">1.79299</td><td style=\"text-align: right;\">-0.863291</td><td style=\"text-align: right;\">-0.0103089</td><td style=\"text-align: right;\"> 1.2472   </td><td style=\"text-align: right;\"> 0.237609</td><td style=\"text-align: right;\"> 0.377436 </td><td style=\"text-align: right;\">-1.38702 </td><td style=\"text-align: right;\">-0.0549519</td><td style=\"text-align: right;\">-0.226487</td><td style=\"text-align: right;\"> 0.178228 </td><td style=\"text-align: right;\"> 0.507757</td><td style=\"text-align: right;\">-0.287924</td><td style=\"text-align: right;\">-0.631418</td><td style=\"text-align: right;\">-1.05965 </td><td style=\"text-align: right;\">-0.684093</td><td style=\"text-align: right;\"> 1.96578  </td><td style=\"text-align: right;\">-1.23262 </td><td style=\"text-align: right;\">-0.208038 </td><td style=\"text-align: right;\">-0.1083   </td><td style=\"text-align: right;\"> 0.0052736</td><td style=\"text-align: right;\">-0.190321</td><td style=\"text-align: right;\">-1.17558  </td><td style=\"text-align: right;\"> 0.647376</td><td style=\"text-align: right;\">-0.221929</td><td style=\"text-align: right;\"> 0.0627228</td><td style=\"text-align: right;\"> 0.0614576</td><td style=\"text-align: right;\">  123.5 </td><td style=\"text-align: right;\">      0</td></tr>\n",
       "<tr><td><i style='opacity: 0.6'>4</i></td><td style=\"text-align: right;\">     2</td><td style=\"text-align: right;\">-1.15823 </td><td style=\"text-align: right;\"> 0.877737 </td><td style=\"text-align: right;\">1.54872</td><td style=\"text-align: right;\"> 0.403034</td><td style=\"text-align: right;\">-0.407193 </td><td style=\"text-align: right;\"> 0.0959215</td><td style=\"text-align: right;\"> 0.592941</td><td style=\"text-align: right;\">-0.270533 </td><td style=\"text-align: right;\"> 0.817739</td><td style=\"text-align: right;\"> 0.753074 </td><td style=\"text-align: right;\">-0.822843</td><td style=\"text-align: right;\"> 0.538196 </td><td style=\"text-align: right;\"> 1.34585 </td><td style=\"text-align: right;\">-1.11967 </td><td style=\"text-align: right;\"> 0.175121</td><td style=\"text-align: right;\">-0.451449</td><td style=\"text-align: right;\">-0.237033</td><td style=\"text-align: right;\">-0.0381948</td><td style=\"text-align: right;\"> 0.803487</td><td style=\"text-align: right;\"> 0.408542 </td><td style=\"text-align: right;\">-0.0094307</td><td style=\"text-align: right;\"> 0.798278 </td><td style=\"text-align: right;\">-0.137458</td><td style=\"text-align: right;\"> 0.141267 </td><td style=\"text-align: right;\">-0.20601 </td><td style=\"text-align: right;\"> 0.502292</td><td style=\"text-align: right;\"> 0.219422 </td><td style=\"text-align: right;\"> 0.215153 </td><td style=\"text-align: right;\">   69.99</td><td style=\"text-align: right;\">      0</td></tr>\n",
       "</tbody>\n",
       "</table>"
      ],
      "text/plain": [
       "  #    Time         V1          V2       V3         V4          V5          V6         V7          V8         V9         V10        V11         V12        V13        V14        V15        V16        V17         V18        V19         V20         V21         V22        V23         V24        V25        V26         V27         V28    Amount    Class\n",
       "  0       0  -1.35981   -0.0727812  2.53635   1.37816   -0.338321    0.462388    0.239599   0.0986979   0.363787   0.0907942  -0.5516    -0.617801   -0.99139   -0.311169   1.46818   -0.470401   0.207971   0.0257906   0.403993   0.251412   -0.0183068   0.277838   -0.110474   0.0669281   0.128539  -0.189115   0.133558   -0.0210531    149.62        0\n",
       "  1       0   1.19186    0.266151   0.16648   0.448154   0.0600176  -0.0823608  -0.078803   0.0851017  -0.255425  -0.166974    1.61273    1.06524     0.489095  -0.143772   0.635558   0.463917  -0.114805  -0.183361   -0.145783  -0.0690831  -0.225775   -0.638672    0.101288  -0.339846    0.16717    0.125895  -0.0089831   0.0147242      2.69        0\n",
       "  2       1  -1.35835   -1.34016    1.77321   0.37978   -0.503198    1.8005      0.791461   0.247676   -1.51465    0.207643    0.624501   0.0660837   0.717293  -0.165946   2.34586   -2.89008    1.10997   -0.121359   -2.26186    0.52498     0.247998    0.771679    0.909412  -0.689281   -0.327642  -0.139097  -0.0553528  -0.0597518    378.66        0\n",
       "  3       1  -0.966272  -0.185226   1.79299  -0.863291  -0.0103089   1.2472      0.237609   0.377436   -1.38702   -0.0549519  -0.226487   0.178228    0.507757  -0.287924  -0.631418  -1.05965   -0.684093   1.96578    -1.23262   -0.208038   -0.1083      0.0052736  -0.190321  -1.17558     0.647376  -0.221929   0.0627228   0.0614576    123.5         0\n",
       "  4       2  -1.15823    0.877737   1.54872   0.403034  -0.407193    0.0959215   0.592941  -0.270533    0.817739   0.753074   -0.822843   0.538196    1.34585   -1.11967    0.175121  -0.451449  -0.237033  -0.0381948   0.803487   0.408542   -0.0094307   0.798278   -0.137458   0.141267   -0.20601    0.502292   0.219422    0.215153      69.99        0"
      ]
     },
     "execution_count": 3,
     "metadata": {},
     "output_type": "execute_result"
    }
   ],
   "source": [
    "# Carregamento\n",
    "dados = vaex.from_csv('creditcard.csv')\n",
    "\n",
    "# Exbibição\n",
    "print(dados.shape)\n",
    "dados.head(5)"
   ]
  },
  {
   "cell_type": "code",
   "execution_count": 4,
   "id": "da56f021",
   "metadata": {},
   "outputs": [
    {
     "data": {
      "text/html": [
       "<table>\n",
       "<thead>\n",
       "<tr><th>#                             </th><th>coluna  </th><th>nulos_ou_NaN  </th></tr>\n",
       "</thead>\n",
       "<tbody>\n",
       "<tr><td><i style='opacity: 0.6'>0</i> </td><td>Time    </td><td>0             </td></tr>\n",
       "<tr><td><i style='opacity: 0.6'>1</i> </td><td>V1      </td><td>0             </td></tr>\n",
       "<tr><td><i style='opacity: 0.6'>2</i> </td><td>V2      </td><td>0             </td></tr>\n",
       "<tr><td><i style='opacity: 0.6'>3</i> </td><td>V3      </td><td>0             </td></tr>\n",
       "<tr><td><i style='opacity: 0.6'>4</i> </td><td>V4      </td><td>0             </td></tr>\n",
       "<tr><td>...                           </td><td>...     </td><td>...           </td></tr>\n",
       "<tr><td><i style='opacity: 0.6'>26</i></td><td>V26     </td><td>0             </td></tr>\n",
       "<tr><td><i style='opacity: 0.6'>27</i></td><td>V27     </td><td>0             </td></tr>\n",
       "<tr><td><i style='opacity: 0.6'>28</i></td><td>V28     </td><td>0             </td></tr>\n",
       "<tr><td><i style='opacity: 0.6'>29</i></td><td>Amount  </td><td>0             </td></tr>\n",
       "<tr><td><i style='opacity: 0.6'>30</i></td><td>Class   </td><td>0             </td></tr>\n",
       "</tbody>\n",
       "</table>"
      ],
      "text/plain": [
       "#    coluna    nulos_ou_NaN\n",
       "0    Time      0\n",
       "1    V1        0\n",
       "2    V2        0\n",
       "3    V3        0\n",
       "4    V4        0\n",
       "...  ...       ...\n",
       "26   V26       0\n",
       "27   V27       0\n",
       "28   V28       0\n",
       "29   Amount    0\n",
       "30   Class     0"
      ]
     },
     "execution_count": 4,
     "metadata": {},
     "output_type": "execute_result"
    }
   ],
   "source": [
    "# Checando valores nulos\n",
    "nulos = []\n",
    "nulos.extend([dados[col].isna().sum().item() for col in dados.columns])\n",
    "vaex.from_arrays(coluna=np.array(dados.columns), nulos_ou_NaN=nulos).sort(by='nulos_ou_NaN')"
   ]
  },
  {
   "cell_type": "code",
   "execution_count": 5,
   "id": "fdec29f4",
   "metadata": {},
   "outputs": [
    {
     "data": {
      "text/html": [
       "<div>\n",
       "<style scoped>\n",
       "    .dataframe tbody tr th:only-of-type {\n",
       "        vertical-align: middle;\n",
       "    }\n",
       "\n",
       "    .dataframe tbody tr th {\n",
       "        vertical-align: top;\n",
       "    }\n",
       "\n",
       "    .dataframe thead th {\n",
       "        text-align: right;\n",
       "    }\n",
       "</style>\n",
       "<table border=\"1\" class=\"dataframe\">\n",
       "  <thead>\n",
       "    <tr style=\"text-align: right;\">\n",
       "      <th></th>\n",
       "      <th>porcentagem_da_classe</th>\n",
       "    </tr>\n",
       "  </thead>\n",
       "  <tbody>\n",
       "    <tr>\n",
       "      <th>legitimo</th>\n",
       "      <td>99.83%</td>\n",
       "    </tr>\n",
       "    <tr>\n",
       "      <th>fraude</th>\n",
       "      <td>0.17%</td>\n",
       "    </tr>\n",
       "  </tbody>\n",
       "</table>\n",
       "</div>"
      ],
      "text/plain": [
       "         porcentagem_da_classe\n",
       "legitimo                99.83%\n",
       "fraude                   0.17%"
      ]
     },
     "metadata": {},
     "output_type": "display_data"
    }
   ],
   "source": [
    "# Checando a quantidade de cada classe\n",
    "qtds = dados.Class\\\n",
    "    .value_counts()\\\n",
    "    .to_frame(name='porcentagem_da_classe')\\\n",
    "    .rename(index={0: 'legitimo', 1: 'fraude'})\n",
    "\n",
    "qtds.porcentagem_da_classe = round(qtds.porcentagem_da_classe*100/dados.shape[0], 2).astype('str') + '%'\n",
    "\n",
    "display(qtds)"
   ]
  },
  {
   "cell_type": "markdown",
   "id": "1786bdd6",
   "metadata": {},
   "source": [
    "Como os casos de fraude são uma minoria esmagadora, o dataset precisa ser dividido de forma que tanto os dados de teste e treino contemplem casos de fraude, de forma a não enviesar o aprendizado ou a acurácia do classificador."
   ]
  },
  {
   "cell_type": "code",
   "execution_count": 6,
   "id": "d7a1a1a9",
   "metadata": {},
   "outputs": [],
   "source": [
    "# Atribuindo features (x) e target (y)\n",
    "x = dados.drop('Class').values\n",
    "y = dados[['Class']].values"
   ]
  },
  {
   "cell_type": "code",
   "execution_count": 7,
   "id": "6ac4bfe4",
   "metadata": {},
   "outputs": [],
   "source": [
    "# Dividindo os dados de forma estratificada\n",
    "strat = StratifiedShuffleSplit(n_splits=1, test_size=0.10, random_state=333)\n",
    "\n",
    "for tr_id, tst_id in strat.split(x, y):\n",
    "    # Treino\n",
    "    x_treino = x[tr_id]\n",
    "    y_treino = y[tr_id]\n",
    "    # Teste\n",
    "    x_teste = x[tst_id]\n",
    "    y_teste = y[tst_id]\n",
    "    \n",
    "dados_empacotados = [x_treino, x_teste, y_treino, y_teste]"
   ]
  },
  {
   "cell_type": "code",
   "execution_count": 8,
   "id": "ee235fb2",
   "metadata": {
    "scrolled": true
   },
   "outputs": [
    {
     "name": "stdout",
     "output_type": "stream",
     "text": [
      "Acurácia: 99.88%.\n",
      "Precisão: 61.67%.\n",
      "Recall: 75.51%.\n",
      "Wall time: 21.6 s\n"
     ]
    },
    {
     "data": {
      "image/png": "[encoded data removed]",
      "text/plain": [
       "<Figure size 432x288 with 2 Axes>"
      ]
     },
     "metadata": {
      "needs_background": "light"
     },
     "output_type": "display_data"
    }
   ],
   "source": [
    "%%time\n",
    "# Performance da árvore com parâmetros padrão\n",
    "avalia_modelo(DecisionTreeClassifier(random_state=333), dados_empacotados)"
   ]
  },
  {
   "cell_type": "markdown",
   "id": "5a76a49a",
   "metadata": {},
   "source": [
    "# 03. Avaliando a árvore de decisão"
   ]
  },
  {
   "cell_type": "markdown",
   "id": "1912cee4",
   "metadata": {},
   "source": [
    "O índice de precisão, assim como a matriz de confusão, mostram como o modelo erra (relativamente) bastante nos casos de fraude em si e, nesse caso, o pior erro é deixar um caso fraudulento se passar por legítimo. Alguma mudança na forma como a classificação pode ser feita por meio dos hiperparâmetros do estimador."
   ]
  },
  {
   "cell_type": "code",
   "execution_count": 9,
   "id": "1b9ee7c8",
   "metadata": {},
   "outputs": [
    {
     "name": "stdout",
     "output_type": "stream",
     "text": [
      "Acurácia: 99.95%.\n",
      "Precisão: 92.50%.\n",
      "Recall: 75.51%.\n"
     ]
    },
    {
     "data": {
      "image/png": "[encoded data removed]",
      "text/plain": [
       "<Figure size 432x288 with 2 Axes>"
      ]
     },
     "metadata": {
      "needs_background": "light"
     },
     "output_type": "display_data"
    }
   ],
   "source": [
    "# Limitando o valor de max_depth\n",
    "modelo = DecisionTreeClassifier(max_depth=10, random_state=333)\n",
    "avalia_modelo(modelo, dados_empacotados)"
   ]
  },
  {
   "cell_type": "code",
   "execution_count": 10,
   "id": "b3db5a4b",
   "metadata": {},
   "outputs": [
    {
     "name": "stdout",
     "output_type": "stream",
     "text": [
      "Acurácia: 99.95%.\n",
      "Precisão: 92.68%.\n",
      "Recall: 77.55%.\n"
     ]
    },
    {
     "data": {
      "image/png": "[encoded data removed]",
      "text/plain": [
       "<Figure size 432x288 with 2 Axes>"
      ]
     },
     "metadata": {
      "needs_background": "light"
     },
     "output_type": "display_data"
    }
   ],
   "source": [
    "# Atribuindo min_samples_leaf\n",
    "modelo = DecisionTreeClassifier(max_depth=10, min_samples_leaf=5, random_state=333)\n",
    "avalia_modelo(modelo, dados_empacotados)"
   ]
  },
  {
   "cell_type": "markdown",
   "id": "1829e069",
   "metadata": {},
   "source": [
    "# 04. Aprendendo ensemble learning com bagging"
   ]
  },
  {
   "cell_type": "code",
   "execution_count": 11,
   "id": "93565bb3",
   "metadata": {},
   "outputs": [
    {
     "name": "stdout",
     "output_type": "stream",
     "text": [
      "Acurácia: 99.96%.\n",
      "Precisão: 97.44%.\n",
      "Recall: 77.55%.\n",
      "Wall time: 4min 8s\n"
     ]
    },
    {
     "data": {
      "image/png": "[encoded data removed]",
      "text/plain": [
       "<Figure size 432x288 with 2 Axes>"
      ]
     },
     "metadata": {
      "needs_background": "light"
     },
     "output_type": "display_data"
    }
   ],
   "source": [
    "%%time\n",
    "# Usando o modelo de random forest para aplicar bagging\n",
    "modelo = RandomForestClassifier(random_state=333)\n",
    "avalia_modelo(modelo, dados_empacotados)"
   ]
  },
  {
   "cell_type": "code",
   "execution_count": 12,
   "id": "42902875",
   "metadata": {},
   "outputs": [
    {
     "name": "stdout",
     "output_type": "stream",
     "text": [
      "Acurácia: 99.95%.\n",
      "Precisão: 95.00%.\n",
      "Recall: 77.55%.\n",
      "Wall time: 1min 12s\n"
     ]
    },
    {
     "data": {
      "image/png": "[encoded data removed]",
      "text/plain": [
       "<Figure size 432x288 with 2 Axes>"
      ]
     },
     "metadata": {
      "needs_background": "light"
     },
     "output_type": "display_data"
    }
   ],
   "source": [
    "%%time\n",
    "# Diminuindo max_depth e n_estimators (padrão é 100)\n",
    "modelo = RandomForestClassifier(n_estimators=50, max_depth=10, random_state=333)\n",
    "avalia_modelo(modelo, dados_empacotados)"
   ]
  },
  {
   "cell_type": "markdown",
   "id": "1b0556e5",
   "metadata": {},
   "source": [
    "# 05. Aprendendo ensemble learning com boosting"
   ]
  },
  {
   "cell_type": "code",
   "execution_count": 13,
   "id": "9be0bbe7",
   "metadata": {},
   "outputs": [
    {
     "name": "stdout",
     "output_type": "stream",
     "text": [
      "Acurácia: 99.93%.\n",
      "Precisão: 83.72%.\n",
      "Recall: 73.47%.\n",
      "Wall time: 1min 12s\n"
     ]
    },
    {
     "data": {
      "image/png": "[encoded data removed]",
      "text/plain": [
       "<Figure size 432x288 with 2 Axes>"
      ]
     },
     "metadata": {
      "needs_background": "light"
     },
     "output_type": "display_data"
    }
   ],
   "source": [
    "%%time\n",
    "# Usando o Adaboost para aplicar o boosting\n",
    "modelo = AdaBoostClassifier(random_state=333)\n",
    "avalia_modelo(modelo, dados_empacotados)"
   ]
  },
  {
   "cell_type": "code",
   "execution_count": 14,
   "id": "14a97c83",
   "metadata": {},
   "outputs": [
    {
     "name": "stdout",
     "output_type": "stream",
     "text": [
      "Acurácia: 99.93%.\n",
      "Precisão: 82.61%.\n",
      "Recall: 77.55%.\n",
      "Wall time: 2min 24s\n"
     ]
    },
    {
     "data": {
      "image/png": "[encoded data removed]",
      "text/plain": [
       "<Figure size 432x288 with 2 Axes>"
      ]
     },
     "metadata": {
      "needs_background": "light"
     },
     "output_type": "display_data"
    }
   ],
   "source": [
    "%%time\n",
    "# Mudando max_depth\n",
    "modelo = AdaBoostClassifier(n_estimators=100, random_state=333)\n",
    "avalia_modelo(modelo, dados_empacotados)"
   ]
  },
  {
   "cell_type": "code",
   "execution_count": null,
   "id": "6a22ba47",
   "metadata": {},
   "outputs": [],
   "source": []
  }
 ],
 "metadata": {
  "kernelspec": {
   "display_name": "Python 3 (ipykernel)",
   "language": "python",
   "name": "python3"
  },
  "language_info": {
   "codemirror_mode": {
    "name": "ipython",
    "version": 3
   },
   "file_extension": ".py",
   "mimetype": "text/x-python",
   "name": "python",
   "nbconvert_exporter": "python",
   "pygments_lexer": "ipython3",
   "version": "3.9.7"
  }
 },
 "nbformat": 4,
 "nbformat_minor": 5
}
